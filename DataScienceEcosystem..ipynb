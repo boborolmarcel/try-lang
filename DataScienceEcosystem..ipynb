{
 "cells": [
  {
   "cell_type": "markdown",
   "id": "005bcda8-77eb-4f83-9fc7-0bd79cbfe64d",
   "metadata": {},
   "source": [
    "# Data Science Tools and Ecosystem"
   ]
  },
  {
   "cell_type": "markdown",
   "id": "1f58f977-7494-4486-a5b8-09cebb5aaab5",
   "metadata": {},
   "source": [
    "In this notebook, Data Science Tools and Ecosystem are summarized."
   ]
  },
  {
   "cell_type": "markdown",
   "id": "2d9bb8c3-cf00-44b1-84fb-6f948f34a07b",
   "metadata": {},
   "source": [
    "**Objectives:**\n",
    "\n",
    "- List popular languages that Data Scientists use\n",
    "- List the commonly used libraries by Data Scientists\n",
    "- List the common Data Science Tools"
   ]
  },
  {
   "cell_type": "markdown",
   "id": "a8fd0c67-15e2-4675-bed8-cf5bfe57cd29",
   "metadata": {},
   "source": [
    "Some of the popular languages that Data Scientists use are:\n",
    "\n",
    "1. Python\n",
    "2. R\n",
    "3. Scala\n",
    "4. SQL"
   ]
  },
  {
   "cell_type": "markdown",
   "id": "91c9ce41-29a3-4e61-9309-ab65ae7c6de5",
   "metadata": {},
   "source": [
    "Some of the commonly used libraries used by Data Scientists include:\n",
    "\n",
    "1. Numpy\n",
    "2. Matplotlib\n",
    "3. Scipy\n",
    "4. Pandas\n"
   ]
  },
  {
   "cell_type": "markdown",
   "id": "89a27108-d959-41ef-8e37-a0f6c43be4b0",
   "metadata": {},
   "source": [
    "| Data Science Tools |\n",
    "|--------------------|\n",
    "|Jupyter|\n",
    "|VSCode|\n",
    "|RStudio|"
   ]
  },
  {
   "cell_type": "markdown",
   "id": "4403ef7f-eeed-4a22-9191-4c8eed1764eb",
   "metadata": {},
   "source": [
    "### Below are a few examples of evaluating arithmetic expressions in Python"
   ]
  },
  {
   "cell_type": "code",
   "execution_count": 1,
   "id": "b50e57b5-d5ed-4ae7-a209-b549097ff02d",
   "metadata": {},
   "outputs": [
    {
     "data": {
      "text/plain": [
       "17"
      ]
     },
     "execution_count": 1,
     "metadata": {},
     "output_type": "execute_result"
    }
   ],
   "source": [
    "#This a simple arithmetic expression to mutiply then add integers\n",
    "(3*4)+5"
   ]
  },
  {
   "cell_type": "code",
   "execution_count": 2,
   "id": "4afe0b7d-cf12-44e1-9419-b8bf191dddc9",
   "metadata": {},
   "outputs": [
    {
     "name": "stdout",
     "output_type": "stream",
     "text": [
      "3.3333333333333335\n"
     ]
    }
   ],
   "source": [
    "#This will convert 200 minutes to hours by diving by 60\n",
    "minutes = 200\n",
    "hours = 200/60\n",
    "print(hours)"
   ]
  },
  {
   "cell_type": "markdown",
   "id": "54475dd8-5476-4843-803a-62effc761a1b",
   "metadata": {},
   "source": [
    " ## Author\n",
    " Marcel Angelo B. Boborol"
   ]
  },
  {
   "cell_type": "code",
   "execution_count": null,
   "id": "5e7103c2-9cf9-4994-a16b-3cb0ea406b23",
   "metadata": {},
   "outputs": [],
   "source": []
  }
 ],
 "metadata": {
  "kernelspec": {
   "display_name": "Python 3 (ipykernel)",
   "language": "python",
   "name": "python3"
  },
  "language_info": {
   "codemirror_mode": {
    "name": "ipython",
    "version": 3
   },
   "file_extension": ".py",
   "mimetype": "text/x-python",
   "name": "python",
   "nbconvert_exporter": "python",
   "pygments_lexer": "ipython3",
   "version": "3.11.7"
  }
 },
 "nbformat": 4,
 "nbformat_minor": 5
}
